{
  "nbformat": 4,
  "nbformat_minor": 0,
  "metadata": {
    "colab": {
      "name": "Copie de DesisionTree_Dynamic.ipynb",
      "provenance": [],
      "authorship_tag": "ABX9TyN+L7sKzty3OtsYdBtfgF1G",
      "include_colab_link": true
    },
    "kernelspec": {
      "name": "python3",
      "display_name": "Python 3"
    }
  },
  "cells": [
    {
      "cell_type": "markdown",
      "metadata": {
        "id": "view-in-github",
        "colab_type": "text"
      },
      "source": [
        "<a href=\"https://colab.research.google.com/github/Chourouk97/ben/blob/master/Copie_de_DesisionTree_Dynamic.ipynb\" target=\"_parent\"><img src=\"https://colab.research.google.com/assets/colab-badge.svg\" alt=\"Open In Colab\"/></a>"
      ]
    },
    {
      "cell_type": "code",
      "metadata": {
        "id": "RKRHvfpiiv7B",
        "colab_type": "code",
        "colab": {
          "base_uri": "https://localhost:8080/",
          "height": 122
        },
        "outputId": "6bc306c9-4665-4462-eab5-4171e9f3e9b2"
      },
      "source": [
        "from google.colab import drive\n",
        "drive.mount('/content/gdrive')"
      ],
      "execution_count": null,
      "outputs": [
        {
          "output_type": "stream",
          "text": [
            "Go to this URL in a browser: https://accounts.google.com/o/oauth2/auth?client_id=947318989803-6bn6qk8qdgf4n4g3pfee6491hc0brc4i.apps.googleusercontent.com&redirect_uri=urn%3aietf%3awg%3aoauth%3a2.0%3aoob&response_type=code&scope=email%20https%3a%2f%2fwww.googleapis.com%2fauth%2fdocs.test%20https%3a%2f%2fwww.googleapis.com%2fauth%2fdrive%20https%3a%2f%2fwww.googleapis.com%2fauth%2fdrive.photos.readonly%20https%3a%2f%2fwww.googleapis.com%2fauth%2fpeopleapi.readonly\n",
            "\n",
            "Enter your authorization code:\n",
            "··········\n",
            "Mounted at /content/gdrive\n"
          ],
          "name": "stdout"
        }
      ]
    },
    {
      "cell_type": "code",
      "metadata": {
        "id": "IK8smVObjUss",
        "colab_type": "code",
        "colab": {}
      },
      "source": [
        "import pandas as pd \n",
        "import numpy as np\n",
        "from sklearn.model_selection import train_test_split\n",
        "from sklearn.model_selection import GridSearchCV\n",
        "from sklearn.tree import DecisionTreeClassifier\n",
        "from sklearn.metrics import accuracy_score"
      ],
      "execution_count": null,
      "outputs": []
    },
    {
      "cell_type": "code",
      "metadata": {
        "id": "LYUN1wHvjhlp",
        "colab_type": "code",
        "colab": {}
      },
      "source": [
        "data1 = pd.read_csv('gdrive/My Drive/Final_All_Dataset/DATASET_Hybride_normaliser(minmax)1.csv' , sep=';')\n"
      ],
      "execution_count": null,
      "outputs": []
    },
    {
      "cell_type": "code",
      "metadata": {
        "id": "-XpCxt0yjn04",
        "colab_type": "code",
        "colab": {}
      },
      "source": [
        "X1 = data1.iloc[:,0:135].values\n",
        "y1 = data1.iloc[:, 135:136].values\n",
        "y0  = pd.DataFrame (y1) ## converting an numpy array to pandas dataframe\n",
        "Y1 = y0.replace(['benign','malware'] , [0,1] )\n",
        "X1_train , X1_test , Y1_train , Y1_test = train_test_split(X1, Y1, train_size=0.8 , random_state=5)"
      ],
      "execution_count": null,
      "outputs": []
    },
    {
      "cell_type": "code",
      "metadata": {
        "id": "Hj9wisf4jrRJ",
        "colab_type": "code",
        "colab": {
          "base_uri": "https://localhost:8080/",
          "height": 578
        },
        "outputId": "98e8ccc2-dbaf-4b80-a370-d8237bcf7ab0"
      },
      "source": [
        "print (X1.shape)\n",
        "print (Y1.shape )\n",
        "print (\"X1 = \" , X1)\n",
        "print (\"Y1 = \" , Y1)\n",
        "print (\"X train = \", X1_train.shape)\n",
        "print (\"Y train =\" , Y1_train.shape)\n",
        "print (\"X test =\"  , X1_test.shape )\n",
        "print (\" y test =\", Y1_test.shape)"
      ],
      "execution_count": null,
      "outputs": [
        {
          "output_type": "stream",
          "text": [
            "(424729, 135)\n",
            "(424729, 1)\n",
            "X1 =  [[1.9393220e-03 4.4400000e-05 0.0000000e+00 ... 0.0000000e+00\n",
            "  1.0000000e+00 0.0000000e+00]\n",
            " [7.0185801e-02 0.0000000e+00 1.9200000e-05 ... 0.0000000e+00\n",
            "  1.0000000e+00 0.0000000e+00]\n",
            " [5.1739300e-04 0.0000000e+00 9.5900000e-06 ... 0.0000000e+00\n",
            "  1.0000000e+00 0.0000000e+00]\n",
            " ...\n",
            " [6.0000000e-07 4.4400000e-05 0.0000000e+00 ... 0.0000000e+00\n",
            "  0.0000000e+00 0.0000000e+00]\n",
            " [5.8300000e-07 4.4400000e-05 0.0000000e+00 ... 0.0000000e+00\n",
            "  0.0000000e+00 0.0000000e+00]\n",
            " [1.5900000e-05 0.0000000e+00 9.5900000e-06 ... 0.0000000e+00\n",
            "  0.0000000e+00 0.0000000e+00]]\n",
            "Y1 =          0\n",
            "0       0\n",
            "1       0\n",
            "2       0\n",
            "3       0\n",
            "4       0\n",
            "...    ..\n",
            "424724  1\n",
            "424725  1\n",
            "424726  1\n",
            "424727  1\n",
            "424728  1\n",
            "\n",
            "[424729 rows x 1 columns]\n",
            "X train =  (339783, 135)\n",
            "Y train = (339783, 1)\n",
            "X test = (84946, 135)\n",
            " y test = (84946, 1)\n"
          ],
          "name": "stdout"
        }
      ]
    },
    {
      "cell_type": "markdown",
      "metadata": {
        "id": "TT8LNw_4jxiM",
        "colab_type": "text"
      },
      "source": [
        "**SIMPLE phase**"
      ]
    },
    {
      "cell_type": "code",
      "metadata": {
        "id": "XCgsNAobjtQC",
        "colab_type": "code",
        "colab": {}
      },
      "source": [
        "model_tree = DecisionTreeClassifier()"
      ],
      "execution_count": null,
      "outputs": []
    },
    {
      "cell_type": "code",
      "metadata": {
        "id": "K35jK4KYj6qz",
        "colab_type": "code",
        "colab": {
          "base_uri": "https://localhost:8080/",
          "height": 119
        },
        "outputId": "511c2e21-21e2-4010-8364-791ef82c50dd"
      },
      "source": [
        "model_tree.fit(X1_train ,np.ravel( Y1_train))"
      ],
      "execution_count": null,
      "outputs": [
        {
          "output_type": "execute_result",
          "data": {
            "text/plain": [
              "DecisionTreeClassifier(ccp_alpha=0.0, class_weight=None, criterion='gini',\n",
              "                       max_depth=None, max_features=None, max_leaf_nodes=None,\n",
              "                       min_impurity_decrease=0.0, min_impurity_split=None,\n",
              "                       min_samples_leaf=1, min_samples_split=2,\n",
              "                       min_weight_fraction_leaf=0.0, presort='deprecated',\n",
              "                       random_state=None, splitter='best')"
            ]
          },
          "metadata": {
            "tags": []
          },
          "execution_count": 7
        }
      ]
    },
    {
      "cell_type": "code",
      "metadata": {
        "id": "w1EYifSlkDCK",
        "colab_type": "code",
        "colab": {
          "base_uri": "https://localhost:8080/",
          "height": 51
        },
        "outputId": "f73245b6-99d7-4618-aa1a-7aedab4ca11e"
      },
      "source": [
        "y_pred_class= model_tree.predict(X1_test)\n",
        "print ( y_pred_class.size)\n",
        "print (accuracy_score(Y1_test , y_pred_class))"
      ],
      "execution_count": null,
      "outputs": [
        {
          "output_type": "stream",
          "text": [
            "84946\n",
            "0.9163350834647894\n"
          ],
          "name": "stdout"
        }
      ]
    }
  ]
}