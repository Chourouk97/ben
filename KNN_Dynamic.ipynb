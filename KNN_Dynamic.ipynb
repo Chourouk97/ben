{
  "nbformat": 4,
  "nbformat_minor": 0,
  "metadata": {
    "colab": {
      "name": "KNN_Dynamic.ipynb",
      "provenance": [],
      "collapsed_sections": [],
      "authorship_tag": "ABX9TyNry1Z8ZqSPSez5zzLfx+kl",
      "include_colab_link": true
    },
    "kernelspec": {
      "name": "python3",
      "display_name": "Python 3"
    }
  },
  "cells": [
    {
      "cell_type": "markdown",
      "metadata": {
        "id": "view-in-github",
        "colab_type": "text"
      },
      "source": [
        "<a href=\"https://colab.research.google.com/github/Chourouk97/ben/blob/master/KNN_Dynamic.ipynb\" target=\"_parent\"><img src=\"https://colab.research.google.com/assets/colab-badge.svg\" alt=\"Open In Colab\"/></a>"
      ]
    },
    {
      "cell_type": "code",
      "metadata": {
        "id": "KjXPE8k8ykCW",
        "colab_type": "code",
        "colab": {
          "base_uri": "https://localhost:8080/",
          "height": 34
        },
        "outputId": "f9971403-f124-4741-a2ab-e8988deab909"
      },
      "source": [
        "from google.colab import drive\n",
        "drive.mount('/content/gdrive')\n"
      ],
      "execution_count": null,
      "outputs": [
        {
          "output_type": "stream",
          "text": [
            "Drive already mounted at /content/gdrive; to attempt to forcibly remount, call drive.mount(\"/content/gdrive\", force_remount=True).\n"
          ],
          "name": "stdout"
        }
      ]
    },
    {
      "cell_type": "code",
      "metadata": {
        "id": "xpKIMcY7y-py",
        "colab_type": "code",
        "colab": {}
      },
      "source": [
        "import pandas as pd \n",
        "import numpy as np\n",
        "from sklearn.model_selection import train_test_split\n",
        "from sklearn.model_selection import GridSearchCV\n",
        "from sklearn.neighbors import KNeighborsClassifier\n",
        "from sklearn.metrics import accuracy_score\n"
      ],
      "execution_count": null,
      "outputs": []
    },
    {
      "cell_type": "code",
      "metadata": {
        "id": "0A2_V4njzRcY",
        "colab_type": "code",
        "colab": {}
      },
      "source": [
        "data1 = pd.read_csv('gdrive/My Drive/Final_All_Dataset/DATASET_Hybride_normaliser(minmax)1.csv' , sep=';')\n"
      ],
      "execution_count": null,
      "outputs": []
    },
    {
      "cell_type": "code",
      "metadata": {
        "id": "YnX6a-bQ0jN5",
        "colab_type": "code",
        "colab": {}
      },
      "source": [
        "X1 = data1.iloc[:,0:135].values\n",
        "y1 = data1.iloc[:, 135:136].values\n",
        "y0  = pd.DataFrame (y1) ## converting an numpy array to pandas dataframe\n",
        "Y1 = y0.replace(['benign','malware'] , [0,1] )\n",
        "X1_train , X1_test , Y1_train , Y1_test = train_test_split(X1, Y1, train_size=0.8 , random_state=5)"
      ],
      "execution_count": null,
      "outputs": []
    },
    {
      "cell_type": "code",
      "metadata": {
        "id": "H4cqqfWS0mWw",
        "colab_type": "code",
        "colab": {
          "base_uri": "https://localhost:8080/",
          "height": 578
        },
        "outputId": "a2eeca45-98f2-4ef9-cf14-e1b88451bb76"
      },
      "source": [
        "print (X1.shape)\n",
        "print (Y1.shape )\n",
        "print (\"X1 = \" , X1)\n",
        "print (\"Y1 = \" , Y1)\n",
        "print (\"X train = \", X1_train.shape)\n",
        "print (\"Y train =\" , Y1_train.shape)\n",
        "print (\"X test =\"  , X1_test.shape )\n",
        "print (\" y test =\", Y1_test.shape)"
      ],
      "execution_count": null,
      "outputs": [
        {
          "output_type": "stream",
          "text": [
            "(424729, 135)\n",
            "(424729, 1)\n",
            "X1 =  [[1.9393220e-03 4.4400000e-05 0.0000000e+00 ... 0.0000000e+00\n",
            "  1.0000000e+00 0.0000000e+00]\n",
            " [7.0185801e-02 0.0000000e+00 1.9200000e-05 ... 0.0000000e+00\n",
            "  1.0000000e+00 0.0000000e+00]\n",
            " [5.1739300e-04 0.0000000e+00 9.5900000e-06 ... 0.0000000e+00\n",
            "  1.0000000e+00 0.0000000e+00]\n",
            " ...\n",
            " [6.0000000e-07 4.4400000e-05 0.0000000e+00 ... 0.0000000e+00\n",
            "  0.0000000e+00 0.0000000e+00]\n",
            " [5.8300000e-07 4.4400000e-05 0.0000000e+00 ... 0.0000000e+00\n",
            "  0.0000000e+00 0.0000000e+00]\n",
            " [1.5900000e-05 0.0000000e+00 9.5900000e-06 ... 0.0000000e+00\n",
            "  0.0000000e+00 0.0000000e+00]]\n",
            "Y1 =          0\n",
            "0       0\n",
            "1       0\n",
            "2       0\n",
            "3       0\n",
            "4       0\n",
            "...    ..\n",
            "424724  1\n",
            "424725  1\n",
            "424726  1\n",
            "424727  1\n",
            "424728  1\n",
            "\n",
            "[424729 rows x 1 columns]\n",
            "X train =  (339783, 135)\n",
            "Y train = (339783, 1)\n",
            "X test = (84946, 135)\n",
            " y test = (84946, 1)\n"
          ],
          "name": "stdout"
        }
      ]
    },
    {
      "cell_type": "markdown",
      "metadata": {
        "id": "Zsw9ZirhQpC6",
        "colab_type": "text"
      },
      "source": [
        "**Methode de GridSearchCV**"
      ]
    },
    {
      "cell_type": "code",
      "metadata": {
        "id": "X3LrCoVC1Msf",
        "colab_type": "code",
        "colab": {}
      },
      "source": [
        "## utilisation de GridSearchCV(Cross_Validaton)\n",
        "#creation du dectionnaire des metriques\n",
        "param_grid= {'n_neighbors':np.arange(1,15)}\n",
        "grid = GridSearchCV(KNeighborsClassifier() , param_grid, cv=5 , scoring=\"accuracy\")\n",
        "grid.fit(X1_train , np.ravel(Y1_train))\n"
      ],
      "execution_count": null,
      "outputs": []
    },
    {
      "cell_type": "code",
      "metadata": {
        "id": "kYq8Atig1iKl",
        "colab_type": "code",
        "colab": {}
      },
      "source": [
        "print(\"Score parfait pour le meilleur model trouvée par Cross validation = \",grid.best_score_)\n",
        "print (\"les parametres ideal pour KNeighborsClassifier =\", grid.best_params_)\n",
        "model = grid.best_estimator_\n",
        "print(\" resultat de accuracy avec test SET  = \" , model.score(X1_test, Y1_test))\n"
      ],
      "execution_count": null,
      "outputs": []
    },
    {
      "cell_type": "markdown",
      "metadata": {
        "id": "MjWkOABHSMJ8",
        "colab_type": "text"
      },
      "source": [
        "**SIMPLE phase**"
      ]
    },
    {
      "cell_type": "code",
      "metadata": {
        "id": "twUo6QmzSXgO",
        "colab_type": "code",
        "colab": {}
      },
      "source": [
        "model_knn = KNeighborsClassifier()\n"
      ],
      "execution_count": null,
      "outputs": []
    },
    {
      "cell_type": "code",
      "metadata": {
        "id": "u1Dp-NhlSuds",
        "colab_type": "code",
        "colab": {
          "base_uri": "https://localhost:8080/",
          "height": 68
        },
        "outputId": "45b1f555-0ea9-4210-f1af-b904f7a25aa9"
      },
      "source": [
        "model_knn.fit(X1_train ,np.ravel( Y1_train))"
      ],
      "execution_count": null,
      "outputs": [
        {
          "output_type": "execute_result",
          "data": {
            "text/plain": [
              "KNeighborsClassifier(algorithm='auto', leaf_size=30, metric='minkowski',\n",
              "                     metric_params=None, n_jobs=None, n_neighbors=5, p=2,\n",
              "                     weights='uniform')"
            ]
          },
          "metadata": {
            "tags": []
          },
          "execution_count": 8
        }
      ]
    },
    {
      "cell_type": "code",
      "metadata": {
        "id": "ls91GACKS79R",
        "colab_type": "code",
        "colab": {
          "base_uri": "https://localhost:8080/",
          "height": 51
        },
        "outputId": "92b58252-eb9c-40a6-b3a8-6d6d75536572"
      },
      "source": [
        "y_pred_class= model_knn.predict(X1_test)\n",
        "print ( y_pred_class.size)\n",
        "print (accuracy_score(Y1_test , y_pred_class))"
      ],
      "execution_count": null,
      "outputs": [
        {
          "output_type": "stream",
          "text": [
            "84946\n",
            "0.924351941233254\n"
          ],
          "name": "stdout"
        }
      ]
    }
  ]
}